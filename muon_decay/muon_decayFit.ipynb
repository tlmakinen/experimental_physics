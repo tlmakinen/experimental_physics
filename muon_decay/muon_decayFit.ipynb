{
 "cells": [
  {
   "cell_type": "markdown",
   "metadata": {},
   "source": [
    "# Muon Decay Lifetime Fitting"
   ]
  },
  {
   "cell_type": "code",
   "execution_count": 1,
   "metadata": {},
   "outputs": [],
   "source": [
    "import numpy as np\n",
    "import pandas as pd\n",
    "from scipy.optimize import curve_fit\n",
    "import scipy.stats\n",
    "import matplotlib.pyplot as plt"
   ]
  },
  {
   "cell_type": "code",
   "execution_count": 2,
   "metadata": {},
   "outputs": [],
   "source": [
    "data_1 = pd.read_csv('HistSum.txt', header=0, sep = '\\s+')\n",
    "data_2 = pd.read_csv('Hist017.txt', header=0, sep = '\\s+')"
   ]
  },
  {
   "cell_type": "code",
   "execution_count": 3,
   "metadata": {},
   "outputs": [],
   "source": [
    "def decay_fn(t, N_plus, N_minus, tau_plus, B):\n",
    "    tau_minus = 0.865 # microseconds\n",
    "    return N_plus*np.exp(-t/tau_plus) + N_minus*np.exp(-t/tau_minus) + B"
   ]
  },
  {
   "cell_type": "code",
   "execution_count": 8,
   "metadata": {},
   "outputs": [],
   "source": [
    "for data in [data_1, data_2]:\n",
    "    hist_sum = (data['T1up'].values + data['T2up'].values + data['T1dn'].values + data['T2dn'].values)\n",
    "    data.loc[:, 'histSum'] = pd.Series(hist_sum, index=data.index)"
   ]
  },
  {
   "cell_type": "code",
   "execution_count": 9,
   "metadata": {},
   "outputs": [
    {
     "data": {
      "text/html": [
       "<div>\n",
       "<style scoped>\n",
       "    .dataframe tbody tr th:only-of-type {\n",
       "        vertical-align: middle;\n",
       "    }\n",
       "\n",
       "    .dataframe tbody tr th {\n",
       "        vertical-align: top;\n",
       "    }\n",
       "\n",
       "    .dataframe thead th {\n",
       "        text-align: right;\n",
       "    }\n",
       "</style>\n",
       "<table border=\"1\" class=\"dataframe\">\n",
       "  <thead>\n",
       "    <tr style=\"text-align: right;\">\n",
       "      <th></th>\n",
       "      <th>t</th>\n",
       "      <th>T1up</th>\n",
       "      <th>T1dn</th>\n",
       "      <th>T2up</th>\n",
       "      <th>T2dn</th>\n",
       "      <th>histSum</th>\n",
       "    </tr>\n",
       "  </thead>\n",
       "  <tbody>\n",
       "    <tr>\n",
       "      <th>0</th>\n",
       "      <td>0.2</td>\n",
       "      <td>7062.0</td>\n",
       "      <td>6303.0</td>\n",
       "      <td>5888.0</td>\n",
       "      <td>5966.0</td>\n",
       "      <td>25219.0</td>\n",
       "    </tr>\n",
       "    <tr>\n",
       "      <th>1</th>\n",
       "      <td>0.6</td>\n",
       "      <td>7328.0</td>\n",
       "      <td>5308.0</td>\n",
       "      <td>6398.0</td>\n",
       "      <td>5013.0</td>\n",
       "      <td>24047.0</td>\n",
       "    </tr>\n",
       "    <tr>\n",
       "      <th>2</th>\n",
       "      <td>1.0</td>\n",
       "      <td>6041.0</td>\n",
       "      <td>3947.0</td>\n",
       "      <td>5198.0</td>\n",
       "      <td>3717.0</td>\n",
       "      <td>18903.0</td>\n",
       "    </tr>\n",
       "    <tr>\n",
       "      <th>3</th>\n",
       "      <td>1.4</td>\n",
       "      <td>4558.0</td>\n",
       "      <td>3094.0</td>\n",
       "      <td>3545.0</td>\n",
       "      <td>3037.0</td>\n",
       "      <td>14234.0</td>\n",
       "    </tr>\n",
       "    <tr>\n",
       "      <th>4</th>\n",
       "      <td>1.8</td>\n",
       "      <td>3552.0</td>\n",
       "      <td>2610.0</td>\n",
       "      <td>2774.0</td>\n",
       "      <td>2453.0</td>\n",
       "      <td>11389.0</td>\n",
       "    </tr>\n",
       "    <tr>\n",
       "      <th>5</th>\n",
       "      <td>2.2</td>\n",
       "      <td>2919.0</td>\n",
       "      <td>1996.0</td>\n",
       "      <td>2273.0</td>\n",
       "      <td>1950.0</td>\n",
       "      <td>9138.0</td>\n",
       "    </tr>\n",
       "    <tr>\n",
       "      <th>6</th>\n",
       "      <td>2.6</td>\n",
       "      <td>2418.0</td>\n",
       "      <td>1767.0</td>\n",
       "      <td>1822.0</td>\n",
       "      <td>1636.0</td>\n",
       "      <td>7643.0</td>\n",
       "    </tr>\n",
       "    <tr>\n",
       "      <th>7</th>\n",
       "      <td>3.0</td>\n",
       "      <td>1961.0</td>\n",
       "      <td>1387.0</td>\n",
       "      <td>1431.0</td>\n",
       "      <td>1391.0</td>\n",
       "      <td>6170.0</td>\n",
       "    </tr>\n",
       "    <tr>\n",
       "      <th>8</th>\n",
       "      <td>3.4</td>\n",
       "      <td>1544.0</td>\n",
       "      <td>1197.0</td>\n",
       "      <td>1119.0</td>\n",
       "      <td>1149.0</td>\n",
       "      <td>5009.0</td>\n",
       "    </tr>\n",
       "    <tr>\n",
       "      <th>9</th>\n",
       "      <td>3.8</td>\n",
       "      <td>1293.0</td>\n",
       "      <td>969.0</td>\n",
       "      <td>916.0</td>\n",
       "      <td>961.0</td>\n",
       "      <td>4139.0</td>\n",
       "    </tr>\n",
       "    <tr>\n",
       "      <th>10</th>\n",
       "      <td>4.2</td>\n",
       "      <td>1066.0</td>\n",
       "      <td>861.0</td>\n",
       "      <td>760.0</td>\n",
       "      <td>771.0</td>\n",
       "      <td>3458.0</td>\n",
       "    </tr>\n",
       "    <tr>\n",
       "      <th>11</th>\n",
       "      <td>4.6</td>\n",
       "      <td>877.0</td>\n",
       "      <td>704.0</td>\n",
       "      <td>640.0</td>\n",
       "      <td>671.0</td>\n",
       "      <td>2892.0</td>\n",
       "    </tr>\n",
       "    <tr>\n",
       "      <th>12</th>\n",
       "      <td>5.0</td>\n",
       "      <td>744.0</td>\n",
       "      <td>561.0</td>\n",
       "      <td>552.0</td>\n",
       "      <td>547.0</td>\n",
       "      <td>2404.0</td>\n",
       "    </tr>\n",
       "    <tr>\n",
       "      <th>13</th>\n",
       "      <td>5.4</td>\n",
       "      <td>618.0</td>\n",
       "      <td>439.0</td>\n",
       "      <td>499.0</td>\n",
       "      <td>454.0</td>\n",
       "      <td>2010.0</td>\n",
       "    </tr>\n",
       "    <tr>\n",
       "      <th>14</th>\n",
       "      <td>5.8</td>\n",
       "      <td>570.0</td>\n",
       "      <td>380.0</td>\n",
       "      <td>371.0</td>\n",
       "      <td>378.0</td>\n",
       "      <td>1699.0</td>\n",
       "    </tr>\n",
       "    <tr>\n",
       "      <th>15</th>\n",
       "      <td>6.2</td>\n",
       "      <td>453.0</td>\n",
       "      <td>296.0</td>\n",
       "      <td>323.0</td>\n",
       "      <td>309.0</td>\n",
       "      <td>1381.0</td>\n",
       "    </tr>\n",
       "    <tr>\n",
       "      <th>16</th>\n",
       "      <td>6.6</td>\n",
       "      <td>348.0</td>\n",
       "      <td>263.0</td>\n",
       "      <td>286.0</td>\n",
       "      <td>233.0</td>\n",
       "      <td>1130.0</td>\n",
       "    </tr>\n",
       "    <tr>\n",
       "      <th>17</th>\n",
       "      <td>7.0</td>\n",
       "      <td>308.0</td>\n",
       "      <td>249.0</td>\n",
       "      <td>228.0</td>\n",
       "      <td>206.0</td>\n",
       "      <td>991.0</td>\n",
       "    </tr>\n",
       "    <tr>\n",
       "      <th>18</th>\n",
       "      <td>7.4</td>\n",
       "      <td>313.0</td>\n",
       "      <td>194.0</td>\n",
       "      <td>177.0</td>\n",
       "      <td>180.0</td>\n",
       "      <td>864.0</td>\n",
       "    </tr>\n",
       "    <tr>\n",
       "      <th>19</th>\n",
       "      <td>7.8</td>\n",
       "      <td>258.0</td>\n",
       "      <td>180.0</td>\n",
       "      <td>183.0</td>\n",
       "      <td>150.0</td>\n",
       "      <td>771.0</td>\n",
       "    </tr>\n",
       "    <tr>\n",
       "      <th>20</th>\n",
       "      <td>8.2</td>\n",
       "      <td>206.0</td>\n",
       "      <td>162.0</td>\n",
       "      <td>157.0</td>\n",
       "      <td>122.0</td>\n",
       "      <td>647.0</td>\n",
       "    </tr>\n",
       "    <tr>\n",
       "      <th>21</th>\n",
       "      <td>8.6</td>\n",
       "      <td>176.0</td>\n",
       "      <td>122.0</td>\n",
       "      <td>138.0</td>\n",
       "      <td>100.0</td>\n",
       "      <td>536.0</td>\n",
       "    </tr>\n",
       "    <tr>\n",
       "      <th>22</th>\n",
       "      <td>9.0</td>\n",
       "      <td>159.0</td>\n",
       "      <td>93.0</td>\n",
       "      <td>99.0</td>\n",
       "      <td>107.0</td>\n",
       "      <td>458.0</td>\n",
       "    </tr>\n",
       "    <tr>\n",
       "      <th>23</th>\n",
       "      <td>9.4</td>\n",
       "      <td>162.0</td>\n",
       "      <td>87.0</td>\n",
       "      <td>85.0</td>\n",
       "      <td>85.0</td>\n",
       "      <td>419.0</td>\n",
       "    </tr>\n",
       "    <tr>\n",
       "      <th>24</th>\n",
       "      <td>9.8</td>\n",
       "      <td>117.0</td>\n",
       "      <td>91.0</td>\n",
       "      <td>85.0</td>\n",
       "      <td>72.0</td>\n",
       "      <td>365.0</td>\n",
       "    </tr>\n",
       "    <tr>\n",
       "      <th>25</th>\n",
       "      <td>10.2</td>\n",
       "      <td>117.0</td>\n",
       "      <td>69.0</td>\n",
       "      <td>74.0</td>\n",
       "      <td>51.0</td>\n",
       "      <td>311.0</td>\n",
       "    </tr>\n",
       "    <tr>\n",
       "      <th>26</th>\n",
       "      <td>10.6</td>\n",
       "      <td>98.0</td>\n",
       "      <td>60.0</td>\n",
       "      <td>50.0</td>\n",
       "      <td>45.0</td>\n",
       "      <td>253.0</td>\n",
       "    </tr>\n",
       "    <tr>\n",
       "      <th>27</th>\n",
       "      <td>11.0</td>\n",
       "      <td>79.0</td>\n",
       "      <td>51.0</td>\n",
       "      <td>46.0</td>\n",
       "      <td>48.0</td>\n",
       "      <td>224.0</td>\n",
       "    </tr>\n",
       "    <tr>\n",
       "      <th>28</th>\n",
       "      <td>11.4</td>\n",
       "      <td>92.0</td>\n",
       "      <td>51.0</td>\n",
       "      <td>40.0</td>\n",
       "      <td>45.0</td>\n",
       "      <td>228.0</td>\n",
       "    </tr>\n",
       "    <tr>\n",
       "      <th>29</th>\n",
       "      <td>11.8</td>\n",
       "      <td>89.0</td>\n",
       "      <td>51.0</td>\n",
       "      <td>39.0</td>\n",
       "      <td>38.0</td>\n",
       "      <td>217.0</td>\n",
       "    </tr>\n",
       "    <tr>\n",
       "      <th>30</th>\n",
       "      <td>12.2</td>\n",
       "      <td>67.0</td>\n",
       "      <td>37.0</td>\n",
       "      <td>28.0</td>\n",
       "      <td>44.0</td>\n",
       "      <td>176.0</td>\n",
       "    </tr>\n",
       "    <tr>\n",
       "      <th>31</th>\n",
       "      <td>12.6</td>\n",
       "      <td>70.0</td>\n",
       "      <td>42.0</td>\n",
       "      <td>24.0</td>\n",
       "      <td>30.0</td>\n",
       "      <td>166.0</td>\n",
       "    </tr>\n",
       "    <tr>\n",
       "      <th>32</th>\n",
       "      <td>13.0</td>\n",
       "      <td>73.0</td>\n",
       "      <td>37.0</td>\n",
       "      <td>26.0</td>\n",
       "      <td>28.0</td>\n",
       "      <td>164.0</td>\n",
       "    </tr>\n",
       "    <tr>\n",
       "      <th>33</th>\n",
       "      <td>13.4</td>\n",
       "      <td>63.0</td>\n",
       "      <td>26.0</td>\n",
       "      <td>31.0</td>\n",
       "      <td>32.0</td>\n",
       "      <td>152.0</td>\n",
       "    </tr>\n",
       "    <tr>\n",
       "      <th>34</th>\n",
       "      <td>13.8</td>\n",
       "      <td>53.0</td>\n",
       "      <td>37.0</td>\n",
       "      <td>25.0</td>\n",
       "      <td>35.0</td>\n",
       "      <td>150.0</td>\n",
       "    </tr>\n",
       "    <tr>\n",
       "      <th>35</th>\n",
       "      <td>14.2</td>\n",
       "      <td>52.0</td>\n",
       "      <td>32.0</td>\n",
       "      <td>16.0</td>\n",
       "      <td>22.0</td>\n",
       "      <td>122.0</td>\n",
       "    </tr>\n",
       "    <tr>\n",
       "      <th>36</th>\n",
       "      <td>14.6</td>\n",
       "      <td>50.0</td>\n",
       "      <td>37.0</td>\n",
       "      <td>22.0</td>\n",
       "      <td>26.0</td>\n",
       "      <td>135.0</td>\n",
       "    </tr>\n",
       "    <tr>\n",
       "      <th>37</th>\n",
       "      <td>15.0</td>\n",
       "      <td>54.0</td>\n",
       "      <td>21.0</td>\n",
       "      <td>22.0</td>\n",
       "      <td>20.0</td>\n",
       "      <td>117.0</td>\n",
       "    </tr>\n",
       "    <tr>\n",
       "      <th>38</th>\n",
       "      <td>15.4</td>\n",
       "      <td>49.0</td>\n",
       "      <td>31.0</td>\n",
       "      <td>12.0</td>\n",
       "      <td>19.0</td>\n",
       "      <td>111.0</td>\n",
       "    </tr>\n",
       "    <tr>\n",
       "      <th>39</th>\n",
       "      <td>15.8</td>\n",
       "      <td>65.0</td>\n",
       "      <td>35.0</td>\n",
       "      <td>20.0</td>\n",
       "      <td>20.0</td>\n",
       "      <td>140.0</td>\n",
       "    </tr>\n",
       "    <tr>\n",
       "      <th>40</th>\n",
       "      <td>16.2</td>\n",
       "      <td>42.0</td>\n",
       "      <td>25.0</td>\n",
       "      <td>16.0</td>\n",
       "      <td>21.0</td>\n",
       "      <td>104.0</td>\n",
       "    </tr>\n",
       "    <tr>\n",
       "      <th>41</th>\n",
       "      <td>16.6</td>\n",
       "      <td>52.0</td>\n",
       "      <td>29.0</td>\n",
       "      <td>16.0</td>\n",
       "      <td>32.0</td>\n",
       "      <td>129.0</td>\n",
       "    </tr>\n",
       "    <tr>\n",
       "      <th>42</th>\n",
       "      <td>17.0</td>\n",
       "      <td>40.0</td>\n",
       "      <td>20.0</td>\n",
       "      <td>20.0</td>\n",
       "      <td>24.0</td>\n",
       "      <td>104.0</td>\n",
       "    </tr>\n",
       "    <tr>\n",
       "      <th>43</th>\n",
       "      <td>17.4</td>\n",
       "      <td>49.0</td>\n",
       "      <td>23.0</td>\n",
       "      <td>7.0</td>\n",
       "      <td>24.0</td>\n",
       "      <td>103.0</td>\n",
       "    </tr>\n",
       "    <tr>\n",
       "      <th>44</th>\n",
       "      <td>17.8</td>\n",
       "      <td>52.0</td>\n",
       "      <td>32.0</td>\n",
       "      <td>15.0</td>\n",
       "      <td>13.0</td>\n",
       "      <td>112.0</td>\n",
       "    </tr>\n",
       "    <tr>\n",
       "      <th>45</th>\n",
       "      <td>18.2</td>\n",
       "      <td>44.0</td>\n",
       "      <td>31.0</td>\n",
       "      <td>20.0</td>\n",
       "      <td>22.0</td>\n",
       "      <td>117.0</td>\n",
       "    </tr>\n",
       "    <tr>\n",
       "      <th>46</th>\n",
       "      <td>18.6</td>\n",
       "      <td>53.0</td>\n",
       "      <td>19.0</td>\n",
       "      <td>22.0</td>\n",
       "      <td>10.0</td>\n",
       "      <td>104.0</td>\n",
       "    </tr>\n",
       "    <tr>\n",
       "      <th>47</th>\n",
       "      <td>19.0</td>\n",
       "      <td>44.0</td>\n",
       "      <td>30.0</td>\n",
       "      <td>12.0</td>\n",
       "      <td>15.0</td>\n",
       "      <td>101.0</td>\n",
       "    </tr>\n",
       "    <tr>\n",
       "      <th>48</th>\n",
       "      <td>19.4</td>\n",
       "      <td>32.0</td>\n",
       "      <td>18.0</td>\n",
       "      <td>15.0</td>\n",
       "      <td>18.0</td>\n",
       "      <td>83.0</td>\n",
       "    </tr>\n",
       "    <tr>\n",
       "      <th>49</th>\n",
       "      <td>19.8</td>\n",
       "      <td>28.0</td>\n",
       "      <td>26.0</td>\n",
       "      <td>13.0</td>\n",
       "      <td>28.0</td>\n",
       "      <td>95.0</td>\n",
       "    </tr>\n",
       "  </tbody>\n",
       "</table>\n",
       "</div>"
      ],
      "text/plain": [
       "       t    T1up    T1dn    T2up    T2dn  histSum\n",
       "0    0.2  7062.0  6303.0  5888.0  5966.0  25219.0\n",
       "1    0.6  7328.0  5308.0  6398.0  5013.0  24047.0\n",
       "2    1.0  6041.0  3947.0  5198.0  3717.0  18903.0\n",
       "3    1.4  4558.0  3094.0  3545.0  3037.0  14234.0\n",
       "4    1.8  3552.0  2610.0  2774.0  2453.0  11389.0\n",
       "5    2.2  2919.0  1996.0  2273.0  1950.0   9138.0\n",
       "6    2.6  2418.0  1767.0  1822.0  1636.0   7643.0\n",
       "7    3.0  1961.0  1387.0  1431.0  1391.0   6170.0\n",
       "8    3.4  1544.0  1197.0  1119.0  1149.0   5009.0\n",
       "9    3.8  1293.0   969.0   916.0   961.0   4139.0\n",
       "10   4.2  1066.0   861.0   760.0   771.0   3458.0\n",
       "11   4.6   877.0   704.0   640.0   671.0   2892.0\n",
       "12   5.0   744.0   561.0   552.0   547.0   2404.0\n",
       "13   5.4   618.0   439.0   499.0   454.0   2010.0\n",
       "14   5.8   570.0   380.0   371.0   378.0   1699.0\n",
       "15   6.2   453.0   296.0   323.0   309.0   1381.0\n",
       "16   6.6   348.0   263.0   286.0   233.0   1130.0\n",
       "17   7.0   308.0   249.0   228.0   206.0    991.0\n",
       "18   7.4   313.0   194.0   177.0   180.0    864.0\n",
       "19   7.8   258.0   180.0   183.0   150.0    771.0\n",
       "20   8.2   206.0   162.0   157.0   122.0    647.0\n",
       "21   8.6   176.0   122.0   138.0   100.0    536.0\n",
       "22   9.0   159.0    93.0    99.0   107.0    458.0\n",
       "23   9.4   162.0    87.0    85.0    85.0    419.0\n",
       "24   9.8   117.0    91.0    85.0    72.0    365.0\n",
       "25  10.2   117.0    69.0    74.0    51.0    311.0\n",
       "26  10.6    98.0    60.0    50.0    45.0    253.0\n",
       "27  11.0    79.0    51.0    46.0    48.0    224.0\n",
       "28  11.4    92.0    51.0    40.0    45.0    228.0\n",
       "29  11.8    89.0    51.0    39.0    38.0    217.0\n",
       "30  12.2    67.0    37.0    28.0    44.0    176.0\n",
       "31  12.6    70.0    42.0    24.0    30.0    166.0\n",
       "32  13.0    73.0    37.0    26.0    28.0    164.0\n",
       "33  13.4    63.0    26.0    31.0    32.0    152.0\n",
       "34  13.8    53.0    37.0    25.0    35.0    150.0\n",
       "35  14.2    52.0    32.0    16.0    22.0    122.0\n",
       "36  14.6    50.0    37.0    22.0    26.0    135.0\n",
       "37  15.0    54.0    21.0    22.0    20.0    117.0\n",
       "38  15.4    49.0    31.0    12.0    19.0    111.0\n",
       "39  15.8    65.0    35.0    20.0    20.0    140.0\n",
       "40  16.2    42.0    25.0    16.0    21.0    104.0\n",
       "41  16.6    52.0    29.0    16.0    32.0    129.0\n",
       "42  17.0    40.0    20.0    20.0    24.0    104.0\n",
       "43  17.4    49.0    23.0     7.0    24.0    103.0\n",
       "44  17.8    52.0    32.0    15.0    13.0    112.0\n",
       "45  18.2    44.0    31.0    20.0    22.0    117.0\n",
       "46  18.6    53.0    19.0    22.0    10.0    104.0\n",
       "47  19.0    44.0    30.0    12.0    15.0    101.0\n",
       "48  19.4    32.0    18.0    15.0    18.0     83.0\n",
       "49  19.8    28.0    26.0    13.0    28.0     95.0"
      ]
     },
     "execution_count": 9,
     "metadata": {},
     "output_type": "execute_result"
    }
   ],
   "source": [
    "data_1"
   ]
  },
  {
   "cell_type": "code",
   "execution_count": 11,
   "metadata": {},
   "outputs": [],
   "source": [
    "data = data_1"
   ]
  },
  {
   "cell_type": "code",
   "execution_count": 12,
   "metadata": {},
   "outputs": [],
   "source": [
    "par_array = []\n",
    "cov_array = []\n",
    "sigmas = []\n",
    "fit_names = data.columns[1:]\n",
    "\n",
    "# fit each data column to our decay expression\n",
    "for name in fit_names:\n",
    "    # first compute uncertainties in each bin\n",
    "    sigma_i = np.sqrt(data[name].values)   # poisson error is square root of counts in each bin\n",
    "    \n",
    "    # fit using scipy.optimize\n",
    "    popt,cov = curve_fit(decay_fn, data['t'].values[1:], data[name].values[1:], sigma=sigma_i[1:])\n",
    "    \n",
    "    sigmas.append(np.array(sigma_i))\n",
    "    par_array.append(popt)\n",
    "    cov_array.append(cov)"
   ]
  },
  {
   "cell_type": "code",
   "execution_count": 13,
   "metadata": {},
   "outputs": [],
   "source": [
    "# plot features\n",
    "colors = ['#1f77b4','#ff7f0e','#2ca02c','#d62728','#9467bd','#8c564b','#e377c2','#7f7f7f','#bcbd22','#17becf']\n",
    "labels = ['$T1_{up}$ fit', '$T1_{down}$ fit', '$T2_{up}$ fit', '$T2_{down}$ fit', 'Summed Histogram Decay fit', 'Up/Down ratio with no $B$-field']\n",
    "\n",
    "parlist = [\"$N_+$\", '$N_-$', '$\\tau_+$', '$\\tau_-$', '$B$']\n",
    "\n",
    "fitted_curves = []\n",
    "# compute fitted curves:\n",
    "for i in range(len(fit_names)):\n",
    "    N_plus, N_minus, tau_plus, B = par_array[i] # unpack pars\n",
    "    fitted_curves.append(decay_fn(data['t'].values[1:], N_plus, N_minus, tau_plus, B))"
   ]
  },
  {
   "cell_type": "code",
   "execution_count": 14,
   "metadata": {},
   "outputs": [],
   "source": [
    "sigmas;"
   ]
  },
  {
   "cell_type": "code",
   "execution_count": 15,
   "metadata": {},
   "outputs": [
    {
     "data": {
      "text/plain": [
       "1.0605740692835641"
      ]
     },
     "execution_count": 15,
     "metadata": {},
     "output_type": "execute_result"
    }
   ],
   "source": [
    "chisq_histSum = np.sum((fitted_curves[4] - data['histSum'].values[1:])**2 / (sigmas[4][1:]**2))\n",
    "reduced_chisq = chisq_histSum / (len(data)-1)\n",
    "reduced_chisq"
   ]
  },
  {
   "cell_type": "code",
   "execution_count": 16,
   "metadata": {},
   "outputs": [
    {
     "data": {
      "text/plain": [
       "array([24091.55073241, 18558.662886  , 14520.87074236, 11516.02775214,\n",
       "        9237.99843457,  7481.38926949,  6106.33097375,  5015.95621657,\n",
       "        4141.92911139,  3435.09274498,  2859.37938298,  2387.80839626,\n",
       "        1999.82651918,  1679.51647317,  1414.37167031,  1194.44345671,\n",
       "        1011.73636255,   859.77072044,   733.2600227 ,   627.86833164,\n",
       "         540.02461149,   466.77834044,   405.68565461,   354.71850653,\n",
       "         312.19147829,   276.70235195,   247.08354689,   222.36224009,\n",
       "         201.72749001,   184.50305302,   170.12485488,   158.12228731,\n",
       "         148.10265925,   139.7382575 ,   132.75557048,   126.92630823,\n",
       "         122.05991587,   117.99733013,   114.60577105,   111.77439659,\n",
       "         109.41067649,   107.43736613,   105.78998076,   104.41468733,\n",
       "         103.26654484,   102.30803536,   101.50783787,   100.83980464,\n",
       "         100.28210671])"
      ]
     },
     "execution_count": 16,
     "metadata": {},
     "output_type": "execute_result"
    }
   ],
   "source": [
    "fitted_curves[4]"
   ]
  },
  {
   "cell_type": "code",
   "execution_count": 17,
   "metadata": {},
   "outputs": [],
   "source": [
    "# now, compute uncertainties and chi-2 statistic:\n",
    "param_uncertainties = []\n",
    "for i in range(len(fit_names)):\n",
    "    param_uncertainties.append(np.sqrt(np.diag(cov_array[i])))"
   ]
  },
  {
   "cell_type": "code",
   "execution_count": 18,
   "metadata": {},
   "outputs": [
    {
     "data": {
      "text/plain": [
       "[1.3476960965178346,\n",
       " 1.24927025621745,\n",
       " 1.6067807186810474,\n",
       " 1.173088365758824,\n",
       " 1.039362587897893]"
      ]
     },
     "execution_count": 18,
     "metadata": {},
     "output_type": "execute_result"
    }
   ],
   "source": [
    "# now compute the chi-2 statistic\n",
    "chisq = []\n",
    "pValue = []\n",
    "for i in range(len(fit_names)):\n",
    "    chisq_i = np.sum( ((data[fit_names[i]].values[1:]-fitted_curves[i]) / sigmas[i][1:])**2)\n",
    "    chisq.append(chisq_i / len(data))\n",
    "    ndof = len(data*4)\n",
    "    pValue.append(1. - scipy.stats.chi2.cdf(chisq_i,ndof))\n",
    "    \n",
    "chisq"
   ]
  },
  {
   "cell_type": "code",
   "execution_count": 63,
   "metadata": {},
   "outputs": [
    {
     "data": {
      "text/plain": [
       "array([2.14201968e+04, 1.53177596e+04, 2.21582296e+00, 9.74631743e+01])"
      ]
     },
     "execution_count": 63,
     "metadata": {},
     "output_type": "execute_result"
    }
   ],
   "source": [
    "par_array[4]"
   ]
  },
  {
   "cell_type": "code",
   "execution_count": 65,
   "metadata": {},
   "outputs": [
    {
     "data": {
      "text/plain": [
       "array([[ 1.52670115e+05, -2.55690759e+05, -6.78438734e+00,\n",
       "         4.66013652e+02],\n",
       "       [-2.55690759e+05,  4.89656311e+05,  1.08482117e+01,\n",
       "        -7.12374622e+02],\n",
       "       [-6.78438734e+00,  1.08482117e+01,  3.42443998e-04,\n",
       "        -2.82113786e-02],\n",
       "       [ 4.66013652e+02, -7.12374622e+02, -2.82113786e-02,\n",
       "         8.38104028e+00]])"
      ]
     },
     "execution_count": 65,
     "metadata": {},
     "output_type": "execute_result"
    }
   ],
   "source": [
    "cov_array[4]"
   ]
  },
  {
   "cell_type": "code",
   "execution_count": 19,
   "metadata": {},
   "outputs": [
    {
     "data": {
      "text/plain": [
       "array([3.90730233e+02, 6.99754465e+02, 1.85052425e-02, 2.89500264e+00])"
      ]
     },
     "execution_count": 19,
     "metadata": {},
     "output_type": "execute_result"
    }
   ],
   "source": [
    "param_uncertainties[4]"
   ]
  },
  {
   "cell_type": "code",
   "execution_count": 20,
   "metadata": {},
   "outputs": [
    {
     "data": {
      "image/png": "[encoded data removed]",
      "text/plain": [
       "<Figure size 1440x504 with 1 Axes>"
      ]
     },
     "metadata": {
      "needs_background": "light"
     },
     "output_type": "display_data"
    }
   ],
   "source": [
    "fig,axs = plt.subplots(1, figsize=(20,7))\n",
    "\n",
    "ax = axs\n",
    "#ax.set_yscale('log')\n",
    "ax.errorbar(data['t'].values[1:], data[fit_names[4]].values[1:], yerr=3*sigmas[4][1:], fmt='', label=\"3-$\\sigma$ uncertainty\")\n",
    "ax.semilogy(data['t'].values[1:], fitted_curves[4], color=colors[6], label=labels[4], linewidth=4)\n",
    "\n",
    "textString = \"Reduced $\\chi^2 ={0:5.1f}$ \\n$p={1:8.4f}$\".format(chisq[4], pValue[4])\n",
    "textString += \"\\n \\n ---Fit Values---\"\n",
    "textString += \"\\n $N_+$ = {0:5.1f} $\\pm{1:8.2f}$\".format(par_array[4][0], param_uncertainties[4][0])\n",
    "textString += \"\\n $N_-$ = {0:5.1f} $\\pm{1:8.2f}$ \\n\".format(par_array[4][1], param_uncertainties[4][1])\n",
    "textString += r\"$\\tau_+$ = {0:5.1f} $\\pm{1:8.2f}$ $(\\mu s)$\".format(par_array[4][2], param_uncertainties[4][2])\n",
    "textString += \"\\n $B$ = {0:5.1f} $\\pm{1:8.2f}$\".format(par_array[4][3], param_uncertainties[4][3])\n",
    "\n",
    "ax.text(0.5, 1500, textString, fontsize=19, verticalalignment='top')\n",
    "ax.legend(loc='best', fontsize=20)\n",
    "\n",
    "\n",
    "#fig.text(0.5, 0.04, 'Observation Time $t$', ha='center', fontsize=14)\n",
    "#fig.text(0.04, 0.5, 'Counts', rotation='vertical', fontsize=14)\n",
    "\n",
    "ax.set_ylabel('Counts',fontsize=22)\n",
    "ax.set_xlabel('Observation Time $t$ ($\\mu s$)', fontsize=22)\n",
    "plt.savefig('decay_sum_fit.png')\n",
    "plt.show()"
   ]
  },
  {
   "cell_type": "code",
   "execution_count": 25,
   "metadata": {},
   "outputs": [],
   "source": [
    "def ratio_fn(t, A, R_o):\n",
    "    w =0.68 # microseconds^-1\n",
    "    return A*np.cos(w*t) + R_o"
   ]
  },
  {
   "cell_type": "code",
   "execution_count": 27,
   "metadata": {},
   "outputs": [],
   "source": [
    "popt_arr = []\n",
    "cov_arr = []\n",
    "ratio_errs = []\n",
    "for data in [data_1, data_2]:\n",
    "    upData = data['T1up'].values + data['T2up'].values\n",
    "    dnData = data['T1dn'].values + data['T2dn'].values\n",
    "\n",
    "    data.loc[:,'upData'] = pd.Series(upData, index=data.index)\n",
    "    data.loc[:, 'dnData'] = pd.Series(dnData, index=data.index)\n",
    "\n",
    "    data.loc[:, 'ratio'] = pd.Series(upData / dnData, index=data.index)  # take ratio of up and down spins\n",
    "    \n",
    "    up_err = np.sqrt(data['upData'].values)\n",
    "    dn_err = np.sqrt(data['dnData'].values)\n",
    "    \n",
    "    foo = data['t'].values <30\n",
    "    \n",
    "    ratio_err = data['ratio'].values*np.sqrt((up_err / data['upData'].values)**2 + (dn_err / data['dnData'].values)**2)\n",
    "    ratio_errs.append(ratio_err)\n",
    "\n",
    "    popt,cov = curve_fit(ratio_fn, data['t'].iloc[foo].values[2:], data['ratio'].iloc[foo].values[2:], sigma=ratio_err[foo][2:])\n",
    "    \n",
    "    popt_arr.append(popt)\n",
    "    cov_arr.append(cov)\n",
    "    \n",
    "    # unpack fitted parameters\n",
    "    #A_fit, R_o_fit = popt"
   ]
  },
  {
   "cell_type": "code",
   "execution_count": 28,
   "metadata": {},
   "outputs": [],
   "source": [
    "data;"
   ]
  },
  {
   "cell_type": "code",
   "execution_count": 29,
   "metadata": {},
   "outputs": [
    {
     "name": "stdout",
     "output_type": "stream",
     "text": [
      "A =  0.1399405660028128 +\\-$ 0.010572520954356\n"
     ]
    }
   ],
   "source": [
    "print('A = ', popt_arr[0][0], '+\\-$', np.sqrt(np.diag(cov_arr[0]))[1])\n",
    "#print('w_fit = ', popt[2], \"1/microsecond\")"
   ]
  },
  {
   "cell_type": "code",
   "execution_count": 30,
   "metadata": {},
   "outputs": [],
   "source": [
    "ratio_err;"
   ]
  },
  {
   "cell_type": "code",
   "execution_count": 38,
   "metadata": {},
   "outputs": [
    {
     "data": {
      "text/plain": [
       "1.6224623777609632"
      ]
     },
     "execution_count": 38,
     "metadata": {},
     "output_type": "execute_result"
    }
   ],
   "source": [
    "\n",
    "t_plot = np.linspace(start=0, stop=20, num=1000)\n",
    "plot_fn_1 = (ratio_fn(t_plot, popt_arr[0][0],popt_arr[0][1]))\n",
    "\n",
    "plot_fn_2 = (ratio_fn(t_plot, popt_arr[1][0],popt_arr[1][1]))\n",
    "\n",
    "fitted_fn2 = (ratio_fn(data_2['t'].values, popt_arr[1][0],popt_arr[1][1]))\n",
    "fitted_fn1 = (ratio_fn(data_1['t'].values, popt_arr[0][0],popt_arr[0][1]))\n",
    "\n",
    "chisq_arr = []\n",
    "chisq_1 = (np.sum((((fitted_fn1[2:] - data_1['ratio'][2:]) / ratio_errs[0][2:])**2)) / (len(data_1)-2))\n",
    "chisq_2 = (np.sum((((fitted_fn2[2:] - data_2['ratio'][2:]) / ratio_errs[1][2:])**2)) / (len(data_2)-2))\n",
    "\n",
    "chisq_1"
   ]
  },
  {
   "cell_type": "code",
   "execution_count": 60,
   "metadata": {
    "scrolled": false
   },
   "outputs": [
    {
     "data": {
      "image/png": "[encoded data removed]",
      "text/plain": [
       "<Figure size 1224x648 with 2 Axes>"
      ]
     },
     "metadata": {
      "needs_background": "light"
     },
     "output_type": "display_data"
    }
   ],
   "source": [
    "fig,axs = plt.subplots(2, 1, sharey=True, sharex=True, figsize=(17,9))\n",
    "\n",
    "ax = axs[0]\n",
    "ax.errorbar(data_1['t'].iloc[foo].values[1:], data_1['ratio'].iloc[foo].values[1:], yerr=ratio_errs[0][foo][1:], label='5-day data', color=colors[2])\n",
    "ax.plot(t_plot, plot_fn_1, label='Fitted $R(t)$', color=colors[3])\n",
    "\n",
    "#textString = \"--Fitted Oscillatory Behavior--\\n\"\n",
    "#textString += r\" $R(t) = Acos\\omega_L t + R_o$ \"\n",
    "#textString += \"\\n$A={0:5.3f} \\pm {1:5.3f}$\".format(A_fit, np.sqrt(np.diag(cov))[0])\n",
    "#textString += \"\\n $R_o={0:5.3f} \\pm {1:5.3f}$\".format(R_o_fit, np.sqrt(np.diag(cov))[1])\n",
    "textString = \"\\n 5-day Reduced $\\chi^2$={0:5.3f}\" .format(chisq_1)\n",
    "ax.text(1.5, 3.3, textString, fontsize=16, verticalalignment='top')\n",
    "ax.legend(loc='best', fontsize=20)\n",
    "ax.set_ylabel(r'Ratio $\\frac{U}{D}$', fontsize=20)\n",
    "\n",
    "# second plot\n",
    "ax = axs[1]\n",
    "ax.errorbar(data_2['t'].iloc[foo].values[1:], data_2['ratio'].iloc[foo].values[1:], yerr=ratio_errs[1][foo][1:], label='No B-field', color=colors[9])\n",
    "ax.plot(t_plot, plot_fn_2, label='Fitted $R(t)$, no $B$-field', color='k', linestyle='--')\n",
    "\n",
    "\n",
    "textString2 = \"\\n No $B$-field Reduced $\\chi^2$={0:5.3f}\" .format(chisq_2)\n",
    "ax.text(1.5, 3.3, textString2, fontsize=16, verticalalignment='top')\n",
    "\n",
    "ax.set_xlabel('$t$ ($\\mu s$)', fontsize=20)\n",
    "ax.set_ylabel(r'Ratio $\\frac{U}{D}$', fontsize=20)\n",
    "ax.legend(loc='best', fontsize=20)\n",
    "plt.savefig('ratio_fit_comp.png')\n",
    "\n",
    "plt.show()"
   ]
  },
  {
   "cell_type": "code",
   "execution_count": 40,
   "metadata": {
    "scrolled": true
   },
   "outputs": [
    {
     "data": {
      "text/plain": [
       "[array([0.13994057, 1.27303075]), array([0.0166583 , 1.34825489])]"
      ]
     },
     "execution_count": 40,
     "metadata": {},
     "output_type": "execute_result"
    }
   ],
   "source": [
    "popt_arr"
   ]
  },
  {
   "cell_type": "code",
   "execution_count": 41,
   "metadata": {},
   "outputs": [
    {
     "data": {
      "text/plain": [
       "[array([[2.80217364e-04, 6.53675755e-06],\n",
       "        [6.53675755e-06, 1.11778199e-04]]),\n",
       " array([[ 1.42200073e-03, -8.39477444e-05],\n",
       "        [-8.39477444e-05,  5.71068146e-04]])]"
      ]
     },
     "execution_count": 41,
     "metadata": {},
     "output_type": "execute_result"
    }
   ],
   "source": [
    "cov_arr"
   ]
  },
  {
   "cell_type": "code",
   "execution_count": 45,
   "metadata": {},
   "outputs": [
    {
     "data": {
      "text/plain": [
       "array([0.03770942, 0.02389703])"
      ]
     },
     "execution_count": 45,
     "metadata": {},
     "output_type": "execute_result"
    }
   ],
   "source": [
    "np.sqrt(np.diag(cov_arr[1]))"
   ]
  },
  {
   "cell_type": "code",
   "execution_count": 207,
   "metadata": {},
   "outputs": [],
   "source": [
    "from scipy import fftpack"
   ]
  },
  {
   "cell_type": "code",
   "execution_count": 43,
   "metadata": {},
   "outputs": [],
   "source": [
    "yf = fftpack.fft(data['ratio'].values)"
   ]
  },
  {
   "cell_type": "code",
   "execution_count": 44,
   "metadata": {},
   "outputs": [
    {
     "data": {
      "text/plain": [
       "array([ 6.57392012e+01+0.j        , -6.42480465e-01+2.15154891j,\n",
       "        1.00601890e+00+1.01205942j, -1.76234005e-01+0.17593202j,\n",
       "       -7.56159130e-01+0.41440267j, -2.09296539e+00+0.27161252j,\n",
       "       -2.29655033e+00+0.05836715j, -2.15673732e+00-1.50451287j,\n",
       "       -1.67655482e-01-2.39785056j, -5.60595505e-01-0.7510502j ,\n",
       "       -9.13684580e-01-1.57442054j,  5.40348226e-01-2.30010955j,\n",
       "        1.25290874e+00-0.28635493j, -3.57438608e-01-0.22786386j,\n",
       "        1.29607705e+00-0.44265157j,  2.59139325e-02+1.56223386j,\n",
       "       -1.12563752e-01+0.79968619j, -1.16859681e+00+0.69454928j,\n",
       "       -1.11308354e+00-0.33395887j, -3.69258201e-01+0.09045545j,\n",
       "       -5.98073789e-01-0.43932395j, -1.60690688e+00-0.57559561j,\n",
       "        3.49419066e-02-2.9851916j ,  1.72244841e+00-2.1220901j ,\n",
       "        2.58787854e+00+0.09138017j,  2.80982206e-01+0.j        ,\n",
       "        2.58787854e+00-0.09138017j,  1.72244841e+00+2.1220901j ,\n",
       "        3.49419066e-02+2.9851916j , -1.60690688e+00+0.57559561j,\n",
       "       -5.98073789e-01+0.43932395j, -3.69258201e-01-0.09045545j,\n",
       "       -1.11308354e+00+0.33395887j, -1.16859681e+00-0.69454928j,\n",
       "       -1.12563752e-01-0.79968619j,  2.59139325e-02-1.56223386j,\n",
       "        1.29607705e+00+0.44265157j, -3.57438608e-01+0.22786386j,\n",
       "        1.25290874e+00+0.28635493j,  5.40348226e-01+2.30010955j,\n",
       "       -9.13684580e-01+1.57442054j, -5.60595505e-01+0.7510502j ,\n",
       "       -1.67655482e-01+2.39785056j, -2.15673732e+00+1.50451287j,\n",
       "       -2.29655033e+00-0.05836715j, -2.09296539e+00-0.27161252j,\n",
       "       -7.56159130e-01-0.41440267j, -1.76234005e-01-0.17593202j,\n",
       "        1.00601890e+00-1.01205942j, -6.42480465e-01-2.15154891j])"
      ]
     },
     "execution_count": 44,
     "metadata": {},
     "output_type": "execute_result"
    }
   ],
   "source": [
    "yf"
   ]
  },
  {
   "cell_type": "code",
   "execution_count": 48,
   "metadata": {},
   "outputs": [
    {
     "name": "stderr",
     "output_type": "stream",
     "text": [
      "/home/lucas/anaconda3/lib/python3.6/site-packages/ipykernel_launcher.py:3: DeprecationWarning: object of type <class 'float'> cannot be safely interpreted as an integer.\n",
      "  This is separate from the ipykernel package so we can avoid doing imports until\n"
     ]
    },
    {
     "data": {
      "image/png": "[encoded data removed]",
      "text/plain": [
       "<Figure size 432x288 with 1 Axes>"
      ]
     },
     "metadata": {
      "needs_background": "light"
     },
     "output_type": "display_data"
    }
   ],
   "source": [
    "N = len(data)\n",
    "T = 1.0 / 8.0\n",
    "xf = np.linspace(0.0, 1.0/(2.0*T), len(data)/2)\n",
    "\n",
    "fig, ax = plt.subplots()\n",
    "ax.plot(xf, 2.0/N * np.abs(yf[:N//2]))\n",
    "plt.show()"
   ]
  },
  {
   "cell_type": "code",
   "execution_count": null,
   "metadata": {},
   "outputs": [],
   "source": []
  }
 ],
 "metadata": {
  "kernelspec": {
   "display_name": "Python 3",
   "language": "python",
   "name": "python3"
  }
 },
 "nbformat": 4,
 "nbformat_minor": 2
}
